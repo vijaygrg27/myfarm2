{
 "cells": [
  {
   "cell_type": "markdown",
   "metadata": {},
   "source": [
    "# NDVI of Modis"
   ]
  },
  {
   "cell_type": "code",
   "execution_count": 1,
   "metadata": {},
   "outputs": [],
   "source": [
    "import ee\n",
    "import geemap\n",
    "import geemap.colormaps as cm"
   ]
  },
  {
   "cell_type": "code",
   "execution_count": 2,
   "metadata": {},
   "outputs": [],
   "source": [
    "Map = geemap.Map()\n",
    "Map.add_basemap('HYBRID')\n",
    "\n",
    "collection= ee.ImageCollection('MODIS/006/MOD13Q1') \\\n",
    "                  .filter(ee.Filter.date('2010-01-01', '2018-05-01'))\\\n",
    "                  .select('NDVI')\n",
    "                 \n",
    "\n",
    "# Convert the image collection to an image.\n",
    "image = collection.toBands()\n",
    "palette = cm.palettes.ndvi\n",
    "\n",
    "ndviVis = {\n",
    "  'min': 0.0,\n",
    "  'max': 8000.0,\n",
    "  'palette': palette}\n",
    "\n",
    "#Map.setCenter(6.746, 46.529, 2)\n",
    "Map.setCenter(76.8006, 30.6238, 18)\n",
    "Map.addLayer(image , {}, 'NDVI-time Series',opacity=.1)\n",
    "# Time-series marker\n",
    "Map.set_plot_options(add_marker_cluster=False,position='bottomright',overlay=False,max_height=250,max_width=400)\n",
    "\n",
    "\n",
    "\n",
    "\n",
    "# NDVI\n",
    "img = ee.Image('MODIS/006/MOD13Q1/2010_05_09')\n",
    "ndvi = img.select('NDVI')\n",
    "\n",
    "palette = cm.palettes.ndvi\n",
    "ndviVis = {\n",
    "  'min': 0.0,\n",
    "  'max': 8000.0,\n",
    "  'palette':palette\n",
    "}"
   ]
  },
  {
   "cell_type": "code",
   "execution_count": 3,
   "metadata": {},
   "outputs": [
    {
     "data": {
      "application/vnd.jupyter.widget-view+json": {
       "model_id": "3f1f1f1db8e8492fa0306568dc2923d2",
       "version_major": 2,
       "version_minor": 0
      },
      "text/plain": [
       "Map(center=[30.6238, 76.8006], controls=(WidgetControl(options=['position', 'transparent_bg'], widget=HBox(chi…"
      ]
     },
     "metadata": {},
     "output_type": "display_data"
    }
   ],
   "source": [
    "Map"
   ]
  },
  {
   "cell_type": "code",
   "execution_count": 4,
   "metadata": {},
   "outputs": [
    {
     "data": {
      "text/plain": [
       "[<ee.feature.Feature at 0x1f12be1dcd0>]"
      ]
     },
     "execution_count": 4,
     "metadata": {},
     "output_type": "execute_result"
    }
   ],
   "source": [
    "Map.draw_features"
   ]
  },
  {
   "cell_type": "code",
   "execution_count": 5,
   "metadata": {},
   "outputs": [],
   "source": [
    "roi1 = ee.FeatureCollection(Map.draw_features)\n",
    "ndvi_img=ndvi.clip(roi1)\n",
    "Map.addLayer(ndvi_img,ndviVis,'ndvi_image')"
   ]
  },
  {
   "cell_type": "code",
   "execution_count": null,
   "metadata": {},
   "outputs": [],
   "source": []
  }
 ],
 "metadata": {
  "kernelspec": {
   "display_name": "Python 3",
   "language": "python",
   "name": "python3"
  },
  "language_info": {
   "codemirror_mode": {
    "name": "ipython",
    "version": 3
   },
   "file_extension": ".py",
   "mimetype": "text/x-python",
   "name": "python",
   "nbconvert_exporter": "python",
   "pygments_lexer": "ipython3",
   "version": "3.8.5"
  }
 },
 "nbformat": 4,
 "nbformat_minor": 4
}
