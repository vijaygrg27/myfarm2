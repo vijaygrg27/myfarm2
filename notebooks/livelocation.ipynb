{
 "cells": [
  {
   "cell_type": "code",
   "execution_count": null,
   "metadata": {},
   "outputs": [],
   "source": [
    "geemap.update_package()"
   ]
  },
  {
   "cell_type": "code",
   "execution_count": 4,
   "metadata": {},
   "outputs": [
    {
     "data": {
      "application/vnd.jupyter.widget-view+json": {
       "model_id": "eedc6d4810024412aeca227fedec4de1",
       "version_major": 2,
       "version_minor": 0
      },
      "text/plain": [
       "Map(center=[30.7363, 76.7884], controls=(WidgetControl(options=['position', 'transparent_bg'], widget=HBox(chi…"
      ]
     },
     "metadata": {},
     "output_type": "display_data"
    }
   ],
   "source": [
    "import geemap\n",
    "Map = geemap.Map()\n",
    "Map.zoom_to_me(zoom=14, add_marker=True)\n",
    "Map"
   ]
  },
  {
   "cell_type": "code",
   "execution_count": 5,
   "metadata": {},
   "outputs": [
    {
     "name": "stdout",
     "output_type": "stream",
     "text": [
      "30.7363 76.7884\n"
     ]
    }
   ],
   "source": [
    "import geocoder\n",
    "\n",
    "g = geocoder.ip(\"me\")\n",
    "props = g.geojson[\"features\"][0][\"properties\"]\n",
    "lat = props[\"lat\"]\n",
    "lon = props[\"lng\"]\n",
    "print(lat, lon)"
   ]
  },
  {
   "cell_type": "code",
   "execution_count": null,
   "metadata": {},
   "outputs": [],
   "source": []
  }
 ],
 "metadata": {
  "kernelspec": {
   "display_name": "Python 3",
   "language": "python",
   "name": "python3"
  },
  "language_info": {
   "codemirror_mode": {
    "name": "ipython",
    "version": 3
   },
   "file_extension": ".py",
   "mimetype": "text/x-python",
   "name": "python",
   "nbconvert_exporter": "python",
   "pygments_lexer": "ipython3",
   "version": "3.8.5"
  }
 },
 "nbformat": 4,
 "nbformat_minor": 4
}
